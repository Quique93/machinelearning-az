{
 "cells": [
  {
   "cell_type": "code",
   "execution_count": 1,
   "metadata": {},
   "outputs": [],
   "source": [
    "# Plantilla de preprocesado\n",
    "\n",
    "# Como importar las librerias\n",
    "\n",
    "import numpy as np\n",
    "import matplotlib.pyplot as pit\n",
    "import pandas as pd\n",
    "import os\n",
    "\n",
    "# Importamos el data set. Originalmente estaba en otra ruta pero por comodidad lo ponemos en el mismo path.\n",
    "dataset = pd.read_csv('Data.csv')\n"
   ]
  },
  {
   "cell_type": "code",
   "execution_count": 2,
   "metadata": {},
   "outputs": [],
   "source": [
    "# vamos a seleccionar las variables X (variables independientes)\n",
    "# Matriz de variables independientes.\n",
    "X = dataset.iloc[:,:-1].values # Seleccionamos los valores de todas las columnas menos la ultima."
   ]
  },
  {
   "cell_type": "code",
   "execution_count": 3,
   "metadata": {},
   "outputs": [],
   "source": [
    "# vamos a seleccionar la variables dependiente.\n",
    "y = dataset.iloc[:,-1].values # seleccionamos los valores de la ultima columna"
   ]
  },
  {
   "cell_type": "code",
   "execution_count": 6,
   "metadata": {},
   "outputs": [],
   "source": [
    "#Tratamiento de los NA\n",
    "from sklearn.impute import SimpleImputer\n",
    "imputer = SimpleImputer(missing_values = np.nan, strategy = \"mean\")\n",
    "imputer = imputer.fit(X[:,1:3])\n",
    "X[:, 1:3] = imputer.transform(X[:,1:3])"
   ]
  }
 ],
 "metadata": {
  "kernelspec": {
   "display_name": "Python 3",
   "language": "python",
   "name": "python3"
  },
  "language_info": {
   "codemirror_mode": {
    "name": "ipython",
    "version": 3
   },
   "file_extension": ".py",
   "mimetype": "text/x-python",
   "name": "python",
   "nbconvert_exporter": "python",
   "pygments_lexer": "ipython3",
   "version": "3.12.3"
  }
 },
 "nbformat": 4,
 "nbformat_minor": 2
}
