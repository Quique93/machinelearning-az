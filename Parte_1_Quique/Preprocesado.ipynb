{
 "cells": [
  {
   "cell_type": "code",
   "execution_count": null,
   "metadata": {},
   "outputs": [],
   "source": [
    "# Plantilla de preprocesado\n",
    "\n",
    "# Como importar las librerias\n",
    "\n",
    "import numpy as np\n",
    "import matplotlib.pyplot as pit\n",
    "import pandas as pd\n",
    "import os\n",
    "\n",
    "# Importamos el data set. Originalmente estaba en otra ruta pero por comodidad lo ponemos en el mismo path.\n",
    "dataset = pd.read_csv('Data.csv')\n"
   ]
  },
  {
   "cell_type": "code",
   "execution_count": null,
   "metadata": {},
   "outputs": [],
   "source": [
    "# vamos a seleccionar las variables X (variables independientes)\n",
    "# Matriz de variables independientes.\n",
    "X = dataset.iloc[:,:-1].values # Seleccionamos los valores de todas las columnas menos la ultima."
   ]
  },
  {
   "cell_type": "code",
   "execution_count": null,
   "metadata": {},
   "outputs": [],
   "source": [
    "# vamos a seleccionar la variables dependiente.\n",
    "y = dataset.iloc[:,-1].values # seleccionamos los valores de la ultima columna"
   ]
  },
  {
   "cell_type": "code",
   "execution_count": null,
   "metadata": {},
   "outputs": [],
   "source": [
    "#Tratamiento de los NA\n",
    "from sklearn.impute import SimpleImputer\n",
    "imputer = SimpleImputer(missing_values = np.nan, strategy = \"mean\")\n",
    "imputer = imputer.fit(X[:,1:3])\n",
    "X[:, 1:3] = imputer.transform(X[:,1:3])"
   ]
  },
  {
   "cell_type": "code",
   "execution_count": null,
   "metadata": {},
   "outputs": [],
   "source": [
    "# Codificar datos categoricos \n",
    "from sklearn import preprocessing\n",
    "from sklearn.preprocessing import LabelEncoder, OneHotEncoder\n",
    "from sklearn.compose import ColumnTransformer"
   ]
  },
  {
   "cell_type": "code",
   "execution_count": null,
   "metadata": {},
   "outputs": [],
   "source": [
    "### SOLAMENTE PARA VARIABLES CON UN ORDEN COMO POR EJEMPLO LA TALLA DE LA CAMISETA.\n",
    "### EN ESE CASO, COMO EL ORDEN IMPORTA, LAS VARIABLES S,M,L SE TRANSFORMARIAN EN 0,1,2.\n",
    "# le_X = preprocessing.LabelEncoder()\n",
    "# print(X[:,0])\n",
    "# le_X.fit_transform(X[:,0])\n",
    "# X[:,0] = le_X.fit_transform(X[:,0])\n",
    "# X"
   ]
  },
  {
   "cell_type": "code",
   "execution_count": null,
   "metadata": {},
   "outputs": [],
   "source": [
    "from sklearn.compose import ColumnTransformer\n",
    "ct = ColumnTransformer(\n",
    "    [('one_hot_encoder', OneHotEncoder(), [0])],   \n",
    "    remainder='passthrough'                        \n",
    ")\n",
    "\n",
    "X = np.array(ct.fit_transform(X), dtype=float)"
   ]
  },
  {
   "cell_type": "code",
   "execution_count": null,
   "metadata": {},
   "outputs": [],
   "source": [
    "# labelencoder_y = LabelEncoder()\n",
    "# y = labelencoder_y.fit_transform(y)\n",
    "le_y = preprocessing.LabelEncoder()\n",
    "print(y)\n",
    "y = le_y.fit_transform(y)"
   ]
  },
  {
   "cell_type": "code",
   "execution_count": 32,
   "metadata": {},
   "outputs": [],
   "source": [
    "# Dividir el data set en conjunto de entrenamiento y test\n",
    "from sklearn.model_selection import train_test_split"
   ]
  },
  {
   "cell_type": "code",
   "execution_count": 40,
   "metadata": {},
   "outputs": [],
   "source": [
    "X_train,X_test, y_train, y_test = train_test_split(X,y,test_size=0.2,random_state=0) # el random state debería ser un numero aleatorio para hacerlo mas potente. Si queremos que siempre salga lo mismo,mantenemos el numero entero."
   ]
  },
  {
   "cell_type": "code",
   "execution_count": 34,
   "metadata": {},
   "outputs": [],
   "source": [
    "from sklearn.preprocessing import StandardScaler"
   ]
  },
  {
   "cell_type": "code",
   "execution_count": 41,
   "metadata": {},
   "outputs": [],
   "source": [
    "sc_X = StandardScaler()\n",
    "X_train = sc_X.fit_transform(X_train)\n",
    "## Se hace un escalado de estandarizacion. \n",
    "## Para hacerlo con la normalizacion se realiza un Normalizer.\n",
    "## Se utiliza el Transform en el segundo caso para que lo haga en funcion del escalamiento de variables\n",
    "## realizadas en el de entrenamiento.\n",
    "X_test = sc_X.transform(X_test)"
   ]
  },
  {
   "cell_type": "code",
   "execution_count": null,
   "metadata": {},
   "outputs": [],
   "source": [
    "# No hay que hacer el mismo metodo con y. Esto es debido a que el algoritmo es clasificatorio en compra/no compra.\n",
    "# Sin embargo cuando haya algoritmos de prediccion (regresion lineal) lo ideal es normalizar / standarizar el vector y.\n",
    "## MODELO DE REGRESION = MODELO DE PREDICCION"
   ]
  },
  {
   "cell_type": "code",
   "execution_count": null,
   "metadata": {},
   "outputs": [],
   "source": []
  }
 ],
 "metadata": {
  "kernelspec": {
   "display_name": "Python 3",
   "language": "python",
   "name": "python3"
  },
  "language_info": {
   "codemirror_mode": {
    "name": "ipython",
    "version": 3
   },
   "file_extension": ".py",
   "mimetype": "text/x-python",
   "name": "python",
   "nbconvert_exporter": "python",
   "pygments_lexer": "ipython3",
   "version": "3.12.3"
  }
 },
 "nbformat": 4,
 "nbformat_minor": 2
}
