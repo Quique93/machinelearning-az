{
 "cells": [
  {
   "cell_type": "code",
   "execution_count": null,
   "metadata": {},
   "outputs": [],
   "source": [
    "### REGRESION LINEAL MULTIPLE\n",
    "# y = b0 + b1*x_1 + b2*x_2 + .... + b_n * x_n\n",
    "# Si una variable tiene efectos positivos, tendra coeficiente positivo y al contrario, coeficientes negativos.\n",
    "\n",
    "### RESTRICCIONES DE REGRESION LINEAL\n",
    "# linealidad\n",
    "# homocedasticidad\n",
    "# normalidad multivariable\n",
    "# indpendencia de los errores\n",
    "# ausencia de multicolinealidad\n",
    "\n",
    "#### En un caso real hay que comprobar estas 5 propiedades."
   ]
  },
  {
   "cell_type": "code",
   "execution_count": null,
   "metadata": {},
   "outputs": [],
   "source": []
  }
 ],
 "metadata": {
  "kernelspec": {
   "display_name": "Python 3",
   "language": "python",
   "name": "python3"
  },
  "language_info": {
   "name": "python",
   "version": "3.12.3"
  }
 },
 "nbformat": 4,
 "nbformat_minor": 2
}
